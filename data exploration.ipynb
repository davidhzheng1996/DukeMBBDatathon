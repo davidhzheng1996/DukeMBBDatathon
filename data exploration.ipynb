{
 "cells": [
  {
   "cell_type": "code",
   "execution_count": 1,
   "metadata": {},
   "outputs": [],
   "source": [
    "import numpy as np\n",
    "import pandas as pd\n",
    "from matplotlib import pyplot as plt\n",
    "import seaborn as sns\n",
    "from sklearn.preprocessing import LabelEncoder\n",
    "import geocoder"
   ]
  },
  {
   "cell_type": "code",
   "execution_count": 58,
   "metadata": {},
   "outputs": [],
   "source": [
    "df_duke = pd.read_csv('Duke Data_2018.csv', low_memory=False)\n",
    "df_oppo = pd.read_csv('oppo calib.csv', low_memory=False)"
   ]
  },
  {
   "cell_type": "code",
   "execution_count": 59,
   "metadata": {},
   "outputs": [],
   "source": [
    "df_duke = df_duke.replace('<Null>', np.nan)\n",
    "df_oppo = df_oppo.replace('<Null>', np.nan)"
   ]
  },
  {
   "cell_type": "code",
   "execution_count": 60,
   "metadata": {},
   "outputs": [],
   "source": [
    "df_oppo = df_oppo.assign(date = pd.to_datetime(df_oppo.date, format=\"%Y-%m-%d\"))"
   ]
  },
  {
   "cell_type": "code",
   "execution_count": 61,
   "metadata": {},
   "outputs": [],
   "source": [
    "del df_oppo['Unnamed: 0']\n",
    "del df_oppo['opponent2']\n",
    "del df_oppo['date']"
   ]
  },
  {
   "cell_type": "code",
   "execution_count": 62,
   "metadata": {},
   "outputs": [
    {
     "data": {
      "text/plain": [
       "Index(['month', 'day', 'year', 'season4', 'season2', 'outcome', 'wins',\n",
       "       'losses', 'accwins', 'acclosses', 'dukescore', 'oppscore', 'ot',\n",
       "       'dukerank', 'opprank', 'headcoach', 'city', 'state', 'code', 'venue',\n",
       "       'attendance', 'tiptime', 'gameno', 'gamenoconf', 'gamenohome',\n",
       "       'gamenocameron', 'gamenosea', 'gamenoconfsea', 'gamenohomesea',\n",
       "       'game_date', 'month_name', 'day_name', 'counter', 'month_name_full',\n",
       "       'player', 'season', 'loc', 'opponent', 'ast_to', 'season_val', 'gp',\n",
       "       'gs', 'min', 'fg', 'fga', 'fg3', 'fga3', 'ft', 'fta', 'oreb', 'dreb',\n",
       "       'treb', 'pf', 'tp', 'ast', 'tovers', 'blk', 'stl', 'tech',\n",
       "       'counter_opp', 'min_g_a', 'fga_pct', 'fga3_pct', 'treb_g', 'ast_g',\n",
       "       'stl_g', 'blk_g', 'tp_g', 'ft_pct', 'differential'],\n",
       "      dtype='object')"
      ]
     },
     "execution_count": 62,
     "metadata": {},
     "output_type": "execute_result"
    }
   ],
   "source": [
    "df_oppo.columns"
   ]
  },
  {
   "cell_type": "code",
   "execution_count": 63,
   "metadata": {
    "scrolled": false
   },
   "outputs": [],
   "source": [
    "encoder_dict = {}\n",
    "for i in df_oppo.columns:\n",
    "    if df_oppo[i].dtype == 'object':\n",
    "        try:\n",
    "            encoder = LabelEncoder()\n",
    "            df_oppo[i] = encoder.fit_transform(df_oppo[i])\n",
    "            encoder_dict[i] = encoder\n",
    "        except:\n",
    "            continue"
   ]
  },
  {
   "cell_type": "code",
   "execution_count": 64,
   "metadata": {},
   "outputs": [],
   "source": [
    "for i in df_oppo.columns:\n",
    "    if df_oppo[i].dtype == 'object':\n",
    "        del df_oppo[i]"
   ]
  },
  {
   "cell_type": "code",
   "execution_count": 65,
   "metadata": {},
   "outputs": [],
   "source": [
    "output = df_oppo.outcome\n",
    "del df_oppo['outcome']"
   ]
  },
  {
   "cell_type": "code",
   "execution_count": 66,
   "metadata": {},
   "outputs": [],
   "source": [
    "from xgboost import XGBClassifier"
   ]
  },
  {
   "cell_type": "code",
   "execution_count": 77,
   "metadata": {},
   "outputs": [],
   "source": [
    "model_xgb = XGBClassifier(subsample=.9)"
   ]
  },
  {
   "cell_type": "code",
   "execution_count": 78,
   "metadata": {},
   "outputs": [
    {
     "data": {
      "text/plain": [
       "XGBClassifier(base_score=0.5, booster='gbtree', colsample_bylevel=1,\n",
       "       colsample_bytree=1, gamma=0, learning_rate=0.1, max_delta_step=0,\n",
       "       max_depth=3, min_child_weight=1, missing=None, n_estimators=100,\n",
       "       n_jobs=1, nthread=None, objective='binary:logistic', random_state=0,\n",
       "       reg_alpha=0, reg_lambda=1, scale_pos_weight=1, seed=None,\n",
       "       silent=True, subsample=0.9)"
      ]
     },
     "execution_count": 78,
     "metadata": {},
     "output_type": "execute_result"
    }
   ],
   "source": [
    "model_xgb.fit(X=df_oppo, y=output)"
   ]
  },
  {
   "cell_type": "code",
   "execution_count": 79,
   "metadata": {},
   "outputs": [
    {
     "name": "stderr",
     "output_type": "stream",
     "text": [
      "/usr/local/lib/python3.6/site-packages/sklearn/preprocessing/label.py:151: DeprecationWarning: The truth value of an empty array is ambiguous. Returning False, but in future this will result in an error. Use `array.size > 0` to check that an array is not empty.\n",
      "  if diff:\n"
     ]
    }
   ],
   "source": [
    "predictions = model_xgb.predict(df_oppo)"
   ]
  },
  {
   "cell_type": "code",
   "execution_count": 80,
   "metadata": {},
   "outputs": [
    {
     "data": {
      "text/plain": [
       "0"
      ]
     },
     "execution_count": 80,
     "metadata": {},
     "output_type": "execute_result"
    }
   ],
   "source": [
    "sum(predictions != np.array(output))"
   ]
  },
  {
   "cell_type": "code",
   "execution_count": null,
   "metadata": {},
   "outputs": [],
   "source": []
  }
 ],
 "metadata": {
  "kernelspec": {
   "display_name": "Python 3",
   "language": "python",
   "name": "python3"
  },
  "language_info": {
   "codemirror_mode": {
    "name": "ipython",
    "version": 3
   },
   "file_extension": ".py",
   "mimetype": "text/x-python",
   "name": "python",
   "nbconvert_exporter": "python",
   "pygments_lexer": "ipython3",
   "version": "3.6.4"
  }
 },
 "nbformat": 4,
 "nbformat_minor": 2
}
